{
 "cells": [
  {
   "cell_type": "code",
   "execution_count": null,
   "id": "ef750436",
   "metadata": {},
   "outputs": [],
   "source": []
  },
  {
   "cell_type": "code",
   "execution_count": null,
   "id": "9b818d51",
   "metadata": {},
   "outputs": [],
   "source": []
  },
  {
   "cell_type": "code",
   "execution_count": null,
   "id": "5b682e30",
   "metadata": {},
   "outputs": [],
   "source": []
  },
  {
   "cell_type": "code",
   "execution_count": 2,
   "id": "72837a43",
   "metadata": {},
   "outputs": [
    {
     "name": "stdout",
     "output_type": "stream",
     "text": [
      "Loading knowledge graph from C:\\Users\\Brian\\Downloads\\crest_kg\\cia_kg_merged_5_documents.json...\n",
      "Knowledge graph has 270 entities and 331 relationships\n"
     ]
    },
    {
     "data": {
      "application/vnd.jupyter.widget-view+json": {
       "model_id": "ebe4583a48f5476d9a521dd961f40a63",
       "version_major": 2,
       "version_minor": 0
      },
      "text/plain": [
       "GraphWidget(layout=Layout(height='800px', width='100%'))"
      ]
     },
     "metadata": {},
     "output_type": "display_data"
    }
   ],
   "source": [
    "# Install necessary packages\n",
    "\n",
    "import json\n",
    "import os\n",
    "import random\n",
    "from typing import Dict, Any\n",
    "from yfiles_jupyter_graphs import GraphWidget\n",
    "\n",
    "# Load the knowledge graph\n",
    "def load_knowledge_graph(filepath):\n",
    "    \"\"\"Load the knowledge graph from a JSON file\"\"\"\n",
    "    print(f\"Loading knowledge graph from {filepath}...\")\n",
    "    with open(filepath, 'r', encoding='utf-8') as f:\n",
    "        kg_data = json.load(f)\n",
    "    return kg_data\n",
    "\n",
    "# Create a color map for entity types\n",
    "def get_entity_color(entity_type):\n",
    "    \"\"\"Return a color based on entity type\"\"\"\n",
    "    color_map = {\n",
    "        \"person\": \"#66c2a5\",       # Teal\n",
    "        \"organization\": \"#fc8d62\", # Orange\n",
    "        \"location\": \"#8da0cb\",     # Blue\n",
    "        \"event\": \"#e78ac3\",        # Pink\n",
    "        \"concept\": \"#a6d854\",      # Green\n",
    "        \"country\": \"#ffd92f\",      # Yellow\n",
    "        \"time\": \"#e5c494\",         # Tan\n",
    "        \"unknown\": \"#cccccc\"       # Gray\n",
    "    }\n",
    "    return color_map.get(entity_type.lower(), \"#15AFAC\")  # Default color if type not found\n",
    "\n",
    "# Convert knowledge graph to yFiles format\n",
    "def convert_kg_to_yfiles_format(kg_data):\n",
    "    \"\"\"Convert the knowledge graph data to the format expected by yFiles widget\"\"\"\n",
    "    # Prepare nodes\n",
    "    nodes = []\n",
    "    for entity in kg_data.get(\"entities\", []):\n",
    "        entity_id = entity.get(\"id\", \"unknown\")\n",
    "        entity_name = entity.get(\"name\", entity_id)\n",
    "        entity_type = entity.get(\"type\", \"unknown\")\n",
    "        \n",
    "        # Add node\n",
    "        nodes.append({\n",
    "            \"id\": entity_id,\n",
    "            \"properties\": {\n",
    "                \"label\": entity_name,\n",
    "                \"type\": entity_type,\n",
    "                **entity.get(\"attributes\", {})\n",
    "            }\n",
    "        })\n",
    "    \n",
    "    # Prepare edges\n",
    "    edges = []\n",
    "    for i, rel in enumerate(kg_data.get(\"relationships\", [])):\n",
    "        source = rel.get(\"source\")\n",
    "        target = rel.get(\"target\")\n",
    "        rel_type = rel.get(\"type\", \"related_to\")\n",
    "        \n",
    "        # Skip relationships with missing source or target\n",
    "        if not source or not target:\n",
    "            continue\n",
    "        \n",
    "        # Add edge\n",
    "        edges.append({\n",
    "            \"id\": f\"rel_{i}\",\n",
    "            \"start\": source,\n",
    "            \"end\": target,\n",
    "            \"properties\": {\n",
    "                \"label\": rel_type,\n",
    "                **rel.get(\"attributes\", {})\n",
    "            }\n",
    "        })\n",
    "    \n",
    "    return nodes, edges\n",
    "\n",
    "# Create a mapping function for node colors based on entity type\n",
    "def node_color_mapping(node: Dict):\n",
    "    \"\"\"Map node colors based on entity type\"\"\"\n",
    "    entity_type = node.get(\"properties\", {}).get(\"type\", \"unknown\")\n",
    "    return get_entity_color(entity_type)\n",
    "\n",
    "# Create a mapping function for node labels\n",
    "def node_label_mapping(node: Dict):\n",
    "    \"\"\"Map node labels from the properties\"\"\"\n",
    "    return node.get(\"properties\", {}).get(\"label\", str(node.get(\"id\", \"\")))\n",
    "\n",
    "# Create a mapping function for edge labels\n",
    "def edge_label_mapping(edge: Dict):\n",
    "    \"\"\"Map edge labels from the properties\"\"\"\n",
    "    return edge.get(\"properties\", {}).get(\"label\", \"\")\n",
    "\n",
    "# Create a mapping function for node types\n",
    "def node_type_mapping(node: Dict):\n",
    "    \"\"\"Map node types from the properties\"\"\"\n",
    "    return node.get(\"properties\", {}).get(\"type\", \"unknown\")\n",
    "\n",
    "# Create a circular layout for the nodes\n",
    "def node_layout_mapping(node: Dict):\n",
    "    \"\"\"Position nodes in a circle-like arrangement to prevent overlap\"\"\"\n",
    "    # This is a simple solution; the widget's built-in layout will improve on this\n",
    "    node_index = random.randint(0, 360)  # Random angle\n",
    "    radius = 500\n",
    "    x = radius * (0.5 + 0.5 * math.cos(math.radians(node_index)))\n",
    "    y = radius * (0.5 + 0.5 * math.sin(math.radians(node_index)))\n",
    "    width = 100  # Node width\n",
    "    height = 40  # Node height\n",
    "    return x, y, width, height\n",
    "\n",
    "# Visualize the knowledge graph\n",
    "def visualize_knowledge_graph(filepath):\n",
    "    \"\"\"Visualize the knowledge graph using yFiles Jupyter widget\"\"\"\n",
    "    # Import math here to avoid issues if this function isn't called\n",
    "    import math\n",
    "    \n",
    "    # Load the knowledge graph\n",
    "    kg_data = load_knowledge_graph(filepath)\n",
    "    \n",
    "    # Convert the knowledge graph to yFiles format\n",
    "    nodes, edges = convert_kg_to_yfiles_format(kg_data)\n",
    "    \n",
    "    print(f\"Knowledge graph has {len(nodes)} entities and {len(edges)} relationships\")\n",
    "    \n",
    "    # Create the widget\n",
    "    w = GraphWidget()\n",
    "    w.nodes = nodes\n",
    "    w.edges = edges\n",
    "    w.directed = True\n",
    "    \n",
    "    # Set custom mappings\n",
    "    w.set_node_color_mapping(node_color_mapping)\n",
    "    w.set_node_label_mapping(node_label_mapping)\n",
    "    w.set_edge_label_mapping(edge_label_mapping)\n",
    "    w.set_node_type_mapping(node_type_mapping)\n",
    "    \n",
    "    # Set the height of the widget\n",
    "    w.layout.height = '800px'\n",
    "    \n",
    "    # Apply an organic layout\n",
    "    w.organic_layout()\n",
    "    \n",
    "    return w\n",
    "\n",
    "# Run the visualization\n",
    "filepath = \"C:\\\\Users\\\\Brian\\\\Downloads\\\\crest_kg\\\\cia_kg_merged_5_documents.json\"\n",
    "widget = visualize_knowledge_graph(filepath)\n",
    "display(widget)"
   ]
  },
  {
   "cell_type": "code",
   "execution_count": null,
   "id": "8c818c08",
   "metadata": {},
   "outputs": [],
   "source": []
  },
  {
   "cell_type": "code",
   "execution_count": null,
   "id": "2dc095a1",
   "metadata": {},
   "outputs": [],
   "source": []
  },
  {
   "cell_type": "code",
   "execution_count": 6,
   "id": "c6aa9e25",
   "metadata": {},
   "outputs": [
    {
     "name": "stdout",
     "output_type": "stream",
     "text": [
      "Note: you may need to restart the kernel to use updated packages.\n",
      "Libraries successfully imported!\n"
     ]
    }
   ],
   "source": [
    "# First cell - Import libraries and check installation\n",
    "%pip install yfiles_jupyter_graphs --quiet\n",
    "from yfiles_jupyter_graphs import GraphWidget\n",
    "import json\n",
    "import math\n",
    "import random\n",
    "from typing import Dict, Any\n",
    "\n",
    "print(\"Libraries successfully imported!\")"
   ]
  },
  {
   "cell_type": "code",
   "execution_count": 7,
   "id": "336bff2c",
   "metadata": {},
   "outputs": [
    {
     "name": "stdout",
     "output_type": "stream",
     "text": [
      "Loading knowledge graph from C:\\Users\\Brian\\Downloads\\crest_kg\\cia_kg_merged_5_documents.json...\n",
      "Loaded knowledge graph with 270 entities and 368 relationships\n"
     ]
    }
   ],
   "source": [
    "# Second cell - Load the knowledge graph\n",
    "def load_knowledge_graph(filepath):\n",
    "    \"\"\"Load the knowledge graph from a JSON file\"\"\"\n",
    "    print(f\"Loading knowledge graph from {filepath}...\")\n",
    "    with open(filepath, 'r', encoding='utf-8') as f:\n",
    "        kg_data = json.load(f)\n",
    "    return kg_data\n",
    "\n",
    "# Load your knowledge graph - adjust the path as needed\n",
    "filepath = \"C:\\\\Users\\\\Brian\\\\Downloads\\\\crest_kg\\\\cia_kg_merged_5_documents.json\"\n",
    "kg_data = load_knowledge_graph(filepath)\n",
    "\n",
    "print(f\"Loaded knowledge graph with {len(kg_data.get('entities', []))} entities and {len(kg_data.get('relationships', []))} relationships\")"
   ]
  }
 ],
 "metadata": {
  "kernelspec": {
   "display_name": "crest",
   "language": "python",
   "name": "python3"
  },
  "language_info": {
   "codemirror_mode": {
    "name": "ipython",
    "version": 3
   },
   "file_extension": ".py",
   "mimetype": "text/x-python",
   "name": "python",
   "nbconvert_exporter": "python",
   "pygments_lexer": "ipython3",
   "version": "3.10.16"
  }
 },
 "nbformat": 4,
 "nbformat_minor": 5
}
